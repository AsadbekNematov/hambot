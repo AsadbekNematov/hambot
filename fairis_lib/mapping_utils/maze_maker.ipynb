{
 "cells": [
  {
   "cell_type": "code",
   "execution_count": 55,
   "id": "initial_id",
   "metadata": {
    "collapsed": true,
    "ExecuteTime": {
     "end_time": "2024-08-31T17:57:26.055220Z",
     "start_time": "2024-08-31T17:57:26.034526Z"
    }
   },
   "outputs": [],
   "source": [
    "import xml.etree.ElementTree as ET\n",
    "from shapely.geometry import LineString\n",
    "import numpy as np"
   ]
  },
  {
   "cell_type": "code",
   "execution_count": 57,
   "outputs": [],
   "source": [
    "def generate_maze(maze_layout, start_positions=None, goals=None):\n",
    "    \n",
    "    num_rows = len(maze_layout)\n",
    "    num_cols = len(maze_layout[0]) if num_rows > 0 else 0\n",
    "\n",
    "    added_walls = []\n",
    "\n",
    "    def add_wall(x1, y1, x2, y2):\n",
    "        wall = tuple([(x1, y1), (x2, y2)])\n",
    "        if wall not in added_walls:\n",
    "            added_walls.append(wall)\n",
    "\n",
    "    # Generate internal walls based on the maze layout\n",
    "    for i, row in enumerate(maze_layout):\n",
    "        for j, cell in enumerate(row):\n",
    "            cell_x = j - num_cols / 2 + 0.5  # Center x position of the cell\n",
    "            cell_y = num_rows / 2 - i - 0.5  # Center y position of the cell\n",
    "\n",
    "            if cell[0] == 1:  # North wall\n",
    "                if i == 0:  # Top row cells\n",
    "                    add_wall(cell_x-0.5, cell_y+0.5, cell_x+0.5, cell_y+0.5)\n",
    "                elif maze_layout[i-1][j][2] == 0:  # If no South wall in the cell above, add North wall\n",
    "                    add_wall(cell_x-0.5, cell_y+0.5, cell_x+0.5, cell_y+0.5)\n",
    "\n",
    "            if cell[1] == 1:  # East wall\n",
    "                add_wall(cell_x+0.5, cell_y+0.5, cell_x+0.5, cell_y-0.5)\n",
    "\n",
    "            if cell[2] == 1:  # South wall\n",
    "                add_wall(cell_x-0.5, cell_y-0.5, cell_x+0.5, cell_y-0.5)\n",
    "\n",
    "            if cell[3] == 1:  # West wall\n",
    "                if j == 0:  # Leftmost column cells\n",
    "                    add_wall(cell_x-0.5, cell_y+0.5, cell_x-0.5, cell_y-0.5)\n",
    "                elif maze_layout[i][j-1][1] == 0:  # If no East wall in the cell to the left, add West wall\n",
    "                    add_wall(cell_x-0.5, cell_y+0.5, cell_x-0.5, cell_y-0.5)\n",
    "\n",
    "    return added_walls\n"
   ],
   "metadata": {
    "collapsed": false,
    "ExecuteTime": {
     "end_time": "2024-08-31T17:59:19.440841Z",
     "start_time": "2024-08-31T17:59:19.416286Z"
    }
   },
   "id": "3c164aac15a75040"
  },
  {
   "cell_type": "code",
   "execution_count": 63,
   "outputs": [],
   "source": [
    "def are_parallel(line1, line2):\n",
    "    \"\"\"Check if two lines are parallel by comparing their direction vectors.\"\"\"\n",
    "    x1, y1 = line1.coords[0]\n",
    "    x2, y2 = line1.coords[-1]\n",
    "    x3, y3 = line2.coords[0]\n",
    "    x4, y4 = line2.coords[-1]\n",
    "\n",
    "    # Calculate direction vectors\n",
    "    vector1 = (x2 - x1, y2 - y1)\n",
    "    vector2 = (x4 - x3, y4 - y3)\n",
    "\n",
    "    # Calculate cross product (should be zero if vectors are parallel)\n",
    "    cross_product = vector1[0] * vector2[1] - vector1[1] * vector2[0]\n",
    "\n",
    "    return cross_product == 0\n",
    "\n",
    "def are_touching(line1, line2):\n",
    "    \"\"\"Check if two lines are touching (end of one is start of another).\"\"\"\n",
    "    return line1.coords[-1] == line2.coords[0]\n",
    "\n",
    "def combine_walls_if_parallel_and_touching(walls):\n",
    "    combined_walls = []\n",
    "    while walls:\n",
    "        current_wall = walls.pop(0)\n",
    "        i = 0\n",
    "        while i < len(walls):\n",
    "            if are_parallel(current_wall, walls[i]) and are_touching(current_wall, walls[i]):\n",
    "                current_wall = LineString(list(current_wall.coords) + list(walls[i].coords[1:]))\n",
    "                walls.pop(i)\n",
    "            else:\n",
    "                i += 1\n",
    "        combined_walls.append(current_wall)\n",
    "    return combined_walls\n",
    "\n",
    "def walls_and_positions_to_xml(combined_walls, start_positions=None, goals=None):\n",
    "    root = ET.Element(\"world\")\n",
    "    for wall in combined_walls:\n",
    "        (x1, y1), (x2, y2) = wall.coords[0], wall.coords[-1]\n",
    "        ET.SubElement(root, \"wall\", x1=str(x1), y1=str(y1), x2=str(x2), y2=str(y2))\n",
    "\n",
    "    if start_positions:\n",
    "        start_positions_element = ET.SubElement(root, \"startPositions\")\n",
    "        for pos in start_positions:\n",
    "            ET.SubElement(start_positions_element, \"pos\", x=str(pos[\"x\"]), y=str(pos[\"y\"]), theta=str(pos[\"theta\"]))\n",
    "\n",
    "    if goals:\n",
    "        for goal in goals:\n",
    "            ET.SubElement(root, \"goal\", id=str(goal[\"id\"]), x=str(goal[\"x\"]), y=str(goal[\"y\"]))\n",
    "\n",
    "    return ET.tostring(root, encoding='unicode', method='xml')"
   ],
   "metadata": {
    "collapsed": false,
    "ExecuteTime": {
     "end_time": "2024-08-31T18:03:00.047259Z",
     "start_time": "2024-08-31T18:03:00.025939Z"
    }
   },
   "id": "3858a751eb3a1e07"
  },
  {
   "cell_type": "code",
   "execution_count": 83,
   "outputs": [],
   "source": [
    "import xml.dom.minidom\n",
    "def save_maze_to_file(xml_string, file_name):\n",
    "    if not file_name.endswith('.xml'):\n",
    "        file_name += '.xml'\n",
    "    \n",
    "    # Parse the XML string into a DOM object\n",
    "    dom = xml.dom.minidom.parseString(xml_string)\n",
    "    \n",
    "    # Pretty-print the DOM object into a formatted XML string\n",
    "    pretty_xml_as_string = dom.toprettyxml(indent=\"  \")\n",
    "\n",
    "    # Save the pretty-printed XML string to the file\n",
    "    with open(file_name, 'w', encoding='utf-8') as file:\n",
    "        file.write(pretty_xml_as_string)\n"
   ],
   "metadata": {
    "collapsed": false,
    "ExecuteTime": {
     "end_time": "2024-08-31T19:10:40.094584Z",
     "start_time": "2024-08-31T19:10:40.071827Z"
    }
   },
   "id": "904cb304a181de85"
  },
  {
   "cell_type": "code",
   "execution_count": 84,
   "outputs": [
    {
     "name": "stdout",
     "output_type": "stream",
     "text": [
      "<world><wall x1=\"-2.5\" y1=\"2.5\" x2=\"2.5\" y2=\"2.5\" /><wall x1=\"-2.5\" y1=\"2.5\" x2=\"-2.5\" y2=\"-2.5\" /><wall x1=\"-1.5\" y1=\"1.5\" x2=\"1.5\" y2=\"1.5\" /><wall x1=\"2.5\" y1=\"2.5\" x2=\"2.5\" y2=\"-2.5\" /><wall x1=\"-1.5\" y1=\"1.5\" x2=\"-1.5\" y2=\"0.5\" /><wall x1=\"-1.5\" y1=\"0.5\" x2=\"2.5\" y2=\"0.5\" /><wall x1=\"-2.5\" y1=\"-0.5\" x2=\"2.5\" y2=\"-0.5\" /><wall x1=\"-1.5\" y1=\"-1.5\" x2=\"2.5\" y2=\"-1.5\" /><wall x1=\"-2.5\" y1=\"-2.5\" x2=\"2.5\" y2=\"-2.5\" /><startPositions><pos x=\"2.0\" y=\"-2.0\" theta=\"3.14\" /></startPositions><goal id=\"1\" x=\"-1.0\" y=\"1.0\" /></world>\n"
     ]
    }
   ],
   "source": [
    "# Maze 1\n",
    "maze_layout = [\n",
    "    [[1, 0, 0, 1], [1, 0, 1, 0], [1, 0, 1, 0], [1, 0, 1, 0], [1, 1, 0, 0]],  # First row with North walls\n",
    "    [[0, 1, 0, 1], [1, 0, 1, 1], [1, 0, 1, 0], [1, 0, 1, 0], [0, 1, 1, 0]],  # Second row with South and West walls\n",
    "    [[0, 0, 1, 1], [1, 0, 1, 0], [1, 0, 1, 0], [1, 0, 1, 0], [1, 1, 0, 0]],  # Third row\n",
    "    [[1, 0, 0, 1], [1, 0, 1, 0], [1, 0, 1, 0], [1, 0, 1, 0], [1, 1, 0, 0]],  # Fourth row\n",
    "    [[0, 0, 1, 1], [1, 0, 1, 0], [1, 0, 1, 0], [1, 0, 1, 0], [1, 1, 1, 0]]   # Fifth row\n",
    "]\n",
    "\n",
    "# Generate the walls\n",
    "added_walls = generate_maze(maze_layout)\n",
    "\n",
    "# Convert to LineStrings\n",
    "line_segments = [LineString([wall[0], wall[1]]) for wall in added_walls]\n",
    "\n",
    "# Combine parallel and touching walls\n",
    "combined_walls = combine_walls_if_parallel_and_touching(line_segments)\n",
    "\n",
    "# Example start and goal positions\n",
    "start_positions = [{\"x\": 2.0, \"y\": -2.0, \"theta\": 3.14}]\n",
    "goals = [{\"id\": 1, \"x\": -1.0, \"y\": 1.0}]\n",
    "\n",
    "# Convert to XML\n",
    "xml_output = walls_and_positions_to_xml(combined_walls, start_positions=start_positions, goals=goals)\n",
    "\n",
    "# Output the XML\n",
    "print(xml_output)\n",
    "\n",
    "save_maze_to_file(xml_output,'../../WebotsSim/worlds/Fall24/maze1')"
   ],
   "metadata": {
    "collapsed": false,
    "ExecuteTime": {
     "end_time": "2024-08-31T19:10:43.594034Z",
     "start_time": "2024-08-31T19:10:43.543205Z"
    }
   },
   "id": "13ce3ca471142ac3"
  },
  {
   "cell_type": "code",
   "execution_count": 85,
   "outputs": [
    {
     "name": "stdout",
     "output_type": "stream",
     "text": [
      "<world><wall x1=\"-3.5\" y1=\"0.5\" x2=\"3.5\" y2=\"0.5\" /><wall x1=\"-3.5\" y1=\"-0.5\" x2=\"3.5\" y2=\"-0.5\" /><wall x1=\"-3.5\" y1=\"0.5\" x2=\"-3.5\" y2=\"-0.5\" /><wall x1=\"3.5\" y1=\"0.5\" x2=\"3.5\" y2=\"-0.5\" /><startPositions><pos x=\"-3.0\" y=\"0.0\" theta=\"0\" /></startPositions><goal id=\"1\" x=\"3.0\" y=\"0.0\" /></world>\n"
     ]
    }
   ],
   "source": [
    "# Maze 2\n",
    "maze_layout = [\n",
    "    [[1, 0, 1, 1], [1, 0, 1, 0], [1, 0, 1, 0], [1, 0, 1, 0], [1, 0, 1, 0], [1, 0, 1, 0], [1, 1, 1, 0]],\n",
    "]\n",
    "\n",
    "\n",
    "# Generate the walls\n",
    "added_walls = generate_maze(maze_layout)\n",
    "\n",
    "# Convert to LineStrings\n",
    "line_segments = [LineString([wall[0], wall[1]]) for wall in added_walls]\n",
    "\n",
    "# Combine parallel and touching walls\n",
    "combined_walls = combine_walls_if_parallel_and_touching(line_segments)\n",
    "\n",
    "# Example start and goal positions\n",
    "start_positions = [{\"x\": -3.0, \"y\": 0.0, \"theta\": 0}]\n",
    "goals = [{\"id\": 1, \"x\": 3.0, \"y\": 0.0}]\n",
    "\n",
    "# Convert to XML\n",
    "xml_output = walls_and_positions_to_xml(combined_walls, start_positions=start_positions, goals=goals)\n",
    "\n",
    "# Output the XML\n",
    "print(xml_output)\n",
    "\n",
    "save_maze_to_file(xml_output,'../../WebotsSim/worlds/Fall24/maze2')"
   ],
   "metadata": {
    "collapsed": false,
    "ExecuteTime": {
     "end_time": "2024-08-31T19:11:12.553069Z",
     "start_time": "2024-08-31T19:11:12.525930Z"
    }
   },
   "id": "58e586fc2f1dc060"
  },
  {
   "cell_type": "code",
   "execution_count": 86,
   "outputs": [
    {
     "name": "stdout",
     "output_type": "stream",
     "text": [
      "<world><wall x1=\"-2.5\" y1=\"2.5\" x2=\"2.5\" y2=\"2.5\" /><wall x1=\"-2.5\" y1=\"2.5\" x2=\"-2.5\" y2=\"-2.5\" /><wall x1=\"-1.5\" y1=\"1.5\" x2=\"1.5\" y2=\"1.5\" /><wall x1=\"2.5\" y1=\"2.5\" x2=\"2.5\" y2=\"-2.5\" /><wall x1=\"-1.5\" y1=\"1.5\" x2=\"-1.5\" y2=\"0.5\" /><wall x1=\"-1.5\" y1=\"0.5\" x2=\"2.5\" y2=\"0.5\" /><wall x1=\"-2.5\" y1=\"-0.5\" x2=\"1.5\" y2=\"-0.5\" /><wall x1=\"-1.5\" y1=\"-1.5\" x2=\"2.5\" y2=\"-1.5\" /><wall x1=\"-2.5\" y1=\"-2.5\" x2=\"2.5\" y2=\"-2.5\" /><startPositions><pos x=\"2\" y=\"-2\" theta=\"3.14\" /></startPositions><goal id=\"1\" x=\"-1\" y=\"1\" /></world>\n"
     ]
    }
   ],
   "source": [
    "# Maze 3\n",
    "maze_layout = [\n",
    "    [[1,0,0,1],[1,0,1,0],[1,0,1,0],[1,0,1,0],[1,1,0,0]],\n",
    "    [[0,1,0,1],[1,0,1,1],[1,0,1,0],[1,0,1,0],[0,1,1,0]],\n",
    "    [[0,0,1,1],[1,0,1,0],[1,0,1,0],[1,0,1,0],[1,1,0,0]],\n",
    "    [[1,0,0,1],[1,0,1,0],[1,0,1,0],[1,0,1,0],[0,1,1,0]],\n",
    "    [[0,0,1,1],[1,0,1,0],[1,0,1,0],[1,0,1,0],[1,1,1,0]],\n",
    "]\n",
    "\n",
    "\n",
    "# Generate the walls\n",
    "added_walls = generate_maze(maze_layout)\n",
    "\n",
    "# Convert to LineStrings\n",
    "line_segments = [LineString([wall[0], wall[1]]) for wall in added_walls]\n",
    "\n",
    "# Combine parallel and touching walls\n",
    "combined_walls = combine_walls_if_parallel_and_touching(line_segments)\n",
    "\n",
    "# Example start and goal positions\n",
    "start_positions = [{\"x\": 2, \"y\": -2, \"theta\": 3.14}]\n",
    "goals = [{\"id\": 1, \"x\": -1, \"y\": 1}]\n",
    "\n",
    "# Convert to XML\n",
    "xml_output = walls_and_positions_to_xml(combined_walls, start_positions=start_positions, goals=goals)\n",
    "\n",
    "# Output the XML\n",
    "print(xml_output)\n",
    "\n",
    "save_maze_to_file(xml_output,'../../WebotsSim/worlds/Fall24/maze3')"
   ],
   "metadata": {
    "collapsed": false,
    "ExecuteTime": {
     "end_time": "2024-08-31T19:11:15.590798Z",
     "start_time": "2024-08-31T19:11:15.524995Z"
    }
   },
   "id": "b66b42299c15f58b"
  },
  {
   "cell_type": "code",
   "execution_count": 87,
   "outputs": [
    {
     "name": "stdout",
     "output_type": "stream",
     "text": [
      "<world><wall x1=\"-2.5\" y1=\"2.5\" x2=\"2.5\" y2=\"2.5\" /><wall x1=\"-2.5\" y1=\"2.5\" x2=\"-2.5\" y2=\"-2.5\" /><wall x1=\"-1.5\" y1=\"1.5\" x2=\"1.5\" y2=\"1.5\" /><wall x1=\"2.5\" y1=\"2.5\" x2=\"2.5\" y2=\"-2.5\" /><wall x1=\"-1.5\" y1=\"1.5\" x2=\"-1.5\" y2=\"0.5\" /><wall x1=\"-1.5\" y1=\"0.5\" x2=\"2.5\" y2=\"0.5\" /><wall x1=\"-1.5\" y1=\"-0.5\" x2=\"1.5\" y2=\"-0.5\" /><wall x1=\"-1.5\" y1=\"-1.5\" x2=\"1.5\" y2=\"-1.5\" /><wall x1=\"-2.5\" y1=\"-2.5\" x2=\"2.5\" y2=\"-2.5\" /><startPositions><pos x=\"2\" y=\"-2\" theta=\"3.14\" /></startPositions><goal id=\"1\" x=\"-1\" y=\"1\" /></world>\n"
     ]
    }
   ],
   "source": [
    "# Maze 4\n",
    "maze_layout = [\n",
    "    [[1,0,0,1],[1,0,1,0],[1,0,1,0],[1,0,1,0],[1,1,0,0]],\n",
    "    [[0,1,0,1],[1,0,1,1],[1,0,1,0],[1,0,1,0],[0,1,1,0]],\n",
    "    [[0,0,0,1],[1,0,1,0],[1,0,1,0],[1,0,1,0],[1,1,0,0]],\n",
    "    [[0,0,0,1],[1,0,1,0],[1,0,1,0],[1,0,1,0],[0,1,0,0]],\n",
    "    [[0,0,1,1],[1,0,1,0],[1,0,1,0],[1,0,1,0],[0,1,1,0]],\n",
    "]\n",
    "\n",
    "\n",
    "# Generate the walls\n",
    "added_walls = generate_maze(maze_layout)\n",
    "\n",
    "# Convert to LineStrings\n",
    "line_segments = [LineString([wall[0], wall[1]]) for wall in added_walls]\n",
    "\n",
    "# Combine parallel and touching walls\n",
    "combined_walls = combine_walls_if_parallel_and_touching(line_segments)\n",
    "\n",
    "# Example start and goal positions\n",
    "start_positions = [{\"x\": 2, \"y\": -2, \"theta\": 3.14}]\n",
    "goals = [{\"id\": 1, \"x\": -1, \"y\": 1}]\n",
    "\n",
    "# Convert to XML\n",
    "xml_output = walls_and_positions_to_xml(combined_walls, start_positions=start_positions, goals=goals)\n",
    "\n",
    "# Output the XML\n",
    "print(xml_output)\n",
    "\n",
    "save_maze_to_file(xml_output,'../../WebotsSim/worlds/Fall24/maze4')"
   ],
   "metadata": {
    "collapsed": false,
    "ExecuteTime": {
     "end_time": "2024-08-31T19:11:18.706603Z",
     "start_time": "2024-08-31T19:11:18.653145Z"
    }
   },
   "id": "a25476e35ac9b058"
  },
  {
   "cell_type": "code",
   "execution_count": 90,
   "outputs": [
    {
     "name": "stdout",
     "output_type": "stream",
     "text": [
      "<world><wall x1=\"-8.5\" y1=\"8.5\" x2=\"8.5\" y2=\"8.5\" /><wall x1=\"-7.5\" y1=\"8.5\" x2=\"-7.5\" y2=\"-8.5\" /><wall x1=\"-8.5\" y1=\"7.5\" x2=\"8.5\" y2=\"7.5\" /><wall x1=\"-8.5\" y1=\"8.5\" x2=\"-8.5\" y2=\"-8.5\" /><wall x1=\"-6.5\" y1=\"8.5\" x2=\"-6.5\" y2=\"7.5\" /><wall x1=\"-5.5\" y1=\"8.5\" x2=\"-5.5\" y2=\"-8.5\" /><wall x1=\"-4.5\" y1=\"8.5\" x2=\"-4.5\" y2=\"7.5\" /><wall x1=\"-3.5\" y1=\"8.5\" x2=\"-3.5\" y2=\"-8.5\" /><wall x1=\"-2.5\" y1=\"8.5\" x2=\"-2.5\" y2=\"7.5\" /><wall x1=\"-1.5\" y1=\"8.5\" x2=\"-1.5\" y2=\"-8.5\" /><wall x1=\"-0.5\" y1=\"8.5\" x2=\"-0.5\" y2=\"7.5\" /><wall x1=\"0.5\" y1=\"8.5\" x2=\"0.5\" y2=\"0.5\" /><wall x1=\"1.5\" y1=\"8.5\" x2=\"1.5\" y2=\"7.5\" /><wall x1=\"2.5\" y1=\"8.5\" x2=\"2.5\" y2=\"-8.5\" /><wall x1=\"3.5\" y1=\"8.5\" x2=\"3.5\" y2=\"7.5\" /><wall x1=\"4.5\" y1=\"8.5\" x2=\"4.5\" y2=\"-8.5\" /><wall x1=\"5.5\" y1=\"8.5\" x2=\"5.5\" y2=\"7.5\" /><wall x1=\"6.5\" y1=\"8.5\" x2=\"6.5\" y2=\"-8.5\" /><wall x1=\"7.5\" y1=\"8.5\" x2=\"7.5\" y2=\"7.5\" /><wall x1=\"8.5\" y1=\"8.5\" x2=\"8.5\" y2=\"-8.5\" /><wall x1=\"-8.5\" y1=\"6.5\" x2=\"-7.5\" y2=\"6.5\" /><wall x1=\"7.5\" y1=\"6.5\" x2=\"8.5\" y2=\"6.5\" /><wall x1=\"-8.5\" y1=\"5.5\" x2=\"8.5\" y2=\"5.5\" /><wall x1=\"-8.5\" y1=\"4.5\" x2=\"-7.5\" y2=\"4.5\" /><wall x1=\"7.5\" y1=\"4.5\" x2=\"8.5\" y2=\"4.5\" /><wall x1=\"-8.5\" y1=\"3.5\" x2=\"8.5\" y2=\"3.5\" /><wall x1=\"-8.5\" y1=\"2.5\" x2=\"-7.5\" y2=\"2.5\" /><wall x1=\"7.5\" y1=\"2.5\" x2=\"8.5\" y2=\"2.5\" /><wall x1=\"-8.5\" y1=\"1.5\" x2=\"8.5\" y2=\"1.5\" /><wall x1=\"-8.5\" y1=\"0.5\" x2=\"-7.5\" y2=\"0.5\" /><wall x1=\"7.5\" y1=\"0.5\" x2=\"8.5\" y2=\"0.5\" /><wall x1=\"-8.5\" y1=\"-0.5\" x2=\"8.5\" y2=\"-0.5\" /><wall x1=\"-8.5\" y1=\"-1.5\" x2=\"-7.5\" y2=\"-1.5\" /><wall x1=\"0.5\" y1=\"-0.5\" x2=\"0.5\" y2=\"-8.5\" /><wall x1=\"7.5\" y1=\"-1.5\" x2=\"8.5\" y2=\"-1.5\" /><wall x1=\"-8.5\" y1=\"-2.5\" x2=\"8.5\" y2=\"-2.5\" /><wall x1=\"-8.5\" y1=\"-3.5\" x2=\"-7.5\" y2=\"-3.5\" /><wall x1=\"7.5\" y1=\"-3.5\" x2=\"8.5\" y2=\"-3.5\" /><wall x1=\"-8.5\" y1=\"-4.5\" x2=\"8.5\" y2=\"-4.5\" /><wall x1=\"-8.5\" y1=\"-5.5\" x2=\"-7.5\" y2=\"-5.5\" /><wall x1=\"7.5\" y1=\"-5.5\" x2=\"8.5\" y2=\"-5.5\" /><wall x1=\"-8.5\" y1=\"-6.5\" x2=\"8.5\" y2=\"-6.5\" /><wall x1=\"-8.5\" y1=\"-7.5\" x2=\"-7.5\" y2=\"-7.5\" /><wall x1=\"7.5\" y1=\"-7.5\" x2=\"8.5\" y2=\"-7.5\" /><wall x1=\"-8.5\" y1=\"-8.5\" x2=\"8.5\" y2=\"-8.5\" /><wall x1=\"-6.5\" y1=\"-7.5\" x2=\"-6.5\" y2=\"-8.5\" /><wall x1=\"-4.5\" y1=\"-7.5\" x2=\"-4.5\" y2=\"-8.5\" /><wall x1=\"-2.5\" y1=\"-7.5\" x2=\"-2.5\" y2=\"-8.5\" /><wall x1=\"-0.5\" y1=\"-7.5\" x2=\"-0.5\" y2=\"-8.5\" /><wall x1=\"1.5\" y1=\"-7.5\" x2=\"1.5\" y2=\"-8.5\" /><wall x1=\"3.5\" y1=\"-7.5\" x2=\"3.5\" y2=\"-8.5\" /><wall x1=\"5.5\" y1=\"-7.5\" x2=\"5.5\" y2=\"-8.5\" /><wall x1=\"7.5\" y1=\"-7.5\" x2=\"7.5\" y2=\"-8.5\" /><startPositions><pos x=\"-1.5\" y=\"1.5\" theta=\"3.14\" /></startPositions><goal id=\"1\" x=\"2.5\" y=\"-2.5\" /></world>\n"
     ]
    }
   ],
   "source": [
    "# Maze 9\n",
    "# 17x17 Maze Layout\n",
    "maze_layout = np.ones((17, 17, 4), dtype=int)  # Initialize all walls present (1s)\n",
    "\n",
    "# Create a simple path system\n",
    "for i in range(1, 16):\n",
    "    if i % 2 == 1:  # For odd rows/columns, create paths\n",
    "        maze_layout[i, 1:-1, 2] = 0  # Clear south walls for horizontal paths\n",
    "        maze_layout[i + 1, 1:-1, 0] = 0  # Clear north walls for horizontal paths\n",
    "        maze_layout[1:-1, i, 1] = 0  # Clear east walls for vertical paths\n",
    "        maze_layout[1:-1, i + 1, 3] = 0  # Clear west walls for vertical paths\n",
    "\n",
    "# Introduce more openings to ensure every cell is accessible\n",
    "for i in range(1, 16, 2):\n",
    "    for j in range(1, 16, 2):\n",
    "        if np.random.rand() > 0.5:  # Randomly remove some walls\n",
    "            maze_layout[i, j, 2] = 0  # Remove south wall\n",
    "            maze_layout[i + 1, j, 0] = 0  # Remove north wall of the cell below\n",
    "        if np.random.rand() > 0.5:\n",
    "            maze_layout[i, j, 1] = 0  # Remove east wall\n",
    "            maze_layout[i, j + 1, 3] = 0  # Remove west wall of the cell to the right\n",
    "\n",
    "# Ensure access to the center\n",
    "maze_layout[8, 8, 1] = 0  # Remove east wall at the center\n",
    "maze_layout[8, 9, 3] = 0  # Remove west wall to the right of the center\n",
    "\n",
    "\n",
    "\n",
    "\n",
    "# Generate the walls\n",
    "added_walls = generate_maze(maze_layout)\n",
    "\n",
    "# Convert to LineStrings\n",
    "line_segments = [LineString([wall[0], wall[1]]) for wall in added_walls]\n",
    "\n",
    "# Combine parallel and touching walls\n",
    "combined_walls = combine_walls_if_parallel_and_touching(line_segments)\n",
    "\n",
    "# Example start and goal positions\n",
    "start_positions = [{\"x\": -1.5, \"y\": 1.5, \"theta\": 3.14}]\n",
    "goals = [{\"id\": 1, \"x\": 2.5, \"y\": -2.5}]\n",
    "\n",
    "# Convert to XML\n",
    "xml_output = walls_and_positions_to_xml(combined_walls, start_positions=start_positions, goals=goals)\n",
    "\n",
    "\n",
    "save_maze_to_file(xml_output,'../../WebotsSim/worlds/Fall24/maze9')"
   ],
   "metadata": {
    "collapsed": false,
    "ExecuteTime": {
     "end_time": "2024-08-31T20:06:29.724724Z",
     "start_time": "2024-08-31T20:06:28.850744Z"
    }
   },
   "id": "89853e8f87731586"
  }
 ],
 "metadata": {
  "kernelspec": {
   "display_name": "Python 3",
   "language": "python",
   "name": "python3"
  },
  "language_info": {
   "codemirror_mode": {
    "name": "ipython",
    "version": 2
   },
   "file_extension": ".py",
   "mimetype": "text/x-python",
   "name": "python",
   "nbconvert_exporter": "python",
   "pygments_lexer": "ipython2",
   "version": "2.7.6"
  }
 },
 "nbformat": 4,
 "nbformat_minor": 5
}
