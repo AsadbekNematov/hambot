{
 "cells": [
  {
   "cell_type": "code",
   "execution_count": 1,
   "id": "initial_id",
   "metadata": {
    "collapsed": true,
    "ExecuteTime": {
     "end_time": "2024-01-03T17:41:18.378200Z",
     "start_time": "2024-01-03T17:41:17.716564Z"
    }
   },
   "outputs": [
    {
     "name": "stdout",
     "output_type": "stream",
     "text": [
      "/Users/titonka/FAIRIS-Lite\n"
     ]
    }
   ],
   "source": [
    "import os\n",
    "\n",
    "import matplotlib.pyplot as plt\n",
    "\n",
    "os.chdir('../../../..')\n",
    "print(os.getcwd())\n",
    "from WebotsSim.libraries.RobotLib.Environment import Maze"
   ]
  },
  {
   "cell_type": "code",
   "execution_count": 4,
   "outputs": [
    {
     "name": "stdout",
     "output_type": "stream",
     "text": [
      "Lab3_Task2_1.xml\n",
      "Lab1.xml\n",
      "Lab3_Task2_2.xml\n",
      "Lab5_EC1.xml\n",
      "Lab5_Maze2.xml\n",
      "Lab5_Maze3.xml\n",
      "Lab5_Maze1.xml\n",
      "Lab2_1.xml\n",
      "Lab2_3.xml\n",
      "Lab3_Task1.xml\n",
      "Lab4_Task2_3.xml\n",
      "Lab4_Task2_1.xml\n"
     ]
    }
   ],
   "source": [
    "base_dir = 'WebotsSim/worlds/mazes/samples/'\n",
    "counter = 1\n",
    "for files in os.listdir(base_dir):\n",
    "    if files.endswith('.xml'):\n",
    "        print(files)\n",
    "        maze = Maze(base_dir + files)\n",
    "        maze.make_maze_plot(display_width=500,display_height=500)\n",
    "        maze.maze_figure.suptitle(\"Maze \" + str(counter))\n",
    "        \n",
    "        plt.savefig(base_dir +\"Figures/Maze \" + str(counter)+\".png\")\n",
    "        counter += 1\n",
    "        maze.close_maze_figure()\n",
    "        "
   ],
   "metadata": {
    "collapsed": false,
    "ExecuteTime": {
     "end_time": "2024-01-03T17:42:25.140859Z",
     "start_time": "2024-01-03T17:42:24.029373Z"
    }
   },
   "id": "42a7818ff3952883"
  }
 ],
 "metadata": {
  "kernelspec": {
   "display_name": "Python 3",
   "language": "python",
   "name": "python3"
  },
  "language_info": {
   "codemirror_mode": {
    "name": "ipython",
    "version": 2
   },
   "file_extension": ".py",
   "mimetype": "text/x-python",
   "name": "python",
   "nbconvert_exporter": "python",
   "pygments_lexer": "ipython2",
   "version": "2.7.6"
  }
 },
 "nbformat": 4,
 "nbformat_minor": 5
}
